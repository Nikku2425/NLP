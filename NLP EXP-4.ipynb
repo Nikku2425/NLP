{
 "cells": [
  {
   "cell_type": "code",
   "execution_count": 1,
   "id": "2841fdd1",
   "metadata": {},
   "outputs": [],
   "source": [
    "import nltk\n",
    "from nltk.corpus import stopwords\n",
    "from nltk.tokenize import word_tokenize"
   ]
  },
  {
   "cell_type": "code",
   "execution_count": 2,
   "id": "6e46e308",
   "metadata": {},
   "outputs": [
    {
     "name": "stderr",
     "output_type": "stream",
     "text": [
      "[nltk_data] Downloading package punkt to\n",
      "[nltk_data]     C:\\Users\\alava\\AppData\\Roaming\\nltk_data...\n",
      "[nltk_data]   Package punkt is already up-to-date!\n",
      "[nltk_data] Downloading package stopwords to\n",
      "[nltk_data]     C:\\Users\\alava\\AppData\\Roaming\\nltk_data...\n",
      "[nltk_data]   Unzipping corpora\\stopwords.zip.\n"
     ]
    },
    {
     "data": {
      "text/plain": [
       "True"
      ]
     },
     "execution_count": 2,
     "metadata": {},
     "output_type": "execute_result"
    }
   ],
   "source": [
    "# Download NLTK resources\n",
    "nltk.download('punkt')\n",
    "nltk.download('stopwords')"
   ]
  },
  {
   "cell_type": "code",
   "execution_count": 4,
   "id": "376ba2a1",
   "metadata": {},
   "outputs": [],
   "source": [
    "text = \"Today is my birthday. Wish me happy birthday\""
   ]
  },
  {
   "cell_type": "code",
   "execution_count": 5,
   "id": "0f5fdd73",
   "metadata": {},
   "outputs": [],
   "source": [
    "tokens = word_tokenize(text)"
   ]
  },
  {
   "cell_type": "code",
   "execution_count": 6,
   "id": "b8932fcb",
   "metadata": {},
   "outputs": [
    {
     "name": "stdout",
     "output_type": "stream",
     "text": [
      "Stopwords in English:\n",
      "{'how', 'a', \"hadn't\", 'do', 'll', 'hasn', 'out', 'any', 'aren', \"didn't\", 'than', 'shan', 'shouldn', 'his', 'doesn', 'we', 'when', 'if', 'while', \"you'd\", 'did', 'an', 'it', 'for', 'after', 'over', 'on', 'what', 'didn', 'all', \"should've\", 't', \"you've\", 'isn', 'your', 'its', 'only', \"don't\", 'should', \"couldn't\", 'she', 'are', 'because', 'ourselves', 'where', 'o', 'hadn', 'yourselves', 'such', 'is', 'why', 'through', \"you're\", 'me', 'but', 'off', 'were', 'which', 'that', \"shouldn't\", 'my', 'now', 'to', 'other', 'so', 'no', \"mightn't\", 'some', 'you', 'in', 're', 'then', \"shan't\", 'most', 'from', 'ours', 'under', 'myself', \"hasn't\", \"isn't\", 'further', \"aren't\", 'being', 'won', 'before', 'up', 'or', 'between', \"weren't\", 'here', 've', 'against', 'her', 'needn', 'until', 'again', \"she's\", 'having', 'ain', 'been', 'their', 'hers', 'haven', 'whom', 'weren', 'can', 'during', 'he', 'our', 'couldn', 'themselves', 'by', \"mustn't\", 'the', \"wasn't\", \"it's\", 'below', 'this', 'doing', 'him', 'ma', 'more', 'm', 'these', 'does', 'too', 'yours', \"needn't\", 'same', 'once', 'those', 'wasn', 'mustn', 'each', 'yourself', 'them', 'am', 'of', \"won't\", 'had', 'and', 'don', 'at', \"you'll\", 'not', 'mightn', 'down', 'few', 'own', 'just', 'about', \"that'll\", 's', 'they', 'will', \"doesn't\", 'y', 'himself', 'be', \"haven't\", 'i', 'into', 'there', 'with', 'as', 'above', 'nor', 'theirs', 'was', 'itself', 'herself', 'has', 'both', 'very', \"wouldn't\", 'who', 'have', 'd', 'wouldn'}\n"
     ]
    }
   ],
   "source": [
    "stop_words = set(stopwords.words('english'))\n",
    "\n",
    "print(\"Stopwords in English:\")\n",
    "print(stop_words)"
   ]
  },
  {
   "cell_type": "code",
   "execution_count": 7,
   "id": "8f09d6ca",
   "metadata": {},
   "outputs": [
    {
     "name": "stdout",
     "output_type": "stream",
     "text": [
      "\n",
      "Original Text:\n",
      "Today is my birthday. Wish me happy birthday\n",
      "\n",
      "Text after removing stopwords:\n",
      "Today birthday . Wish happy birthday\n"
     ]
    }
   ],
   "source": [
    "filtered_tokens = [word for word in tokens if word.lower() not in stop_words]\n",
    "filtered_text = ' '.join(filtered_tokens)\n",
    "\n",
    "print(\"\\nOriginal Text:\")\n",
    "print(text)\n",
    "print(\"\\nText after removing stopwords:\")\n",
    "print(filtered_text)"
   ]
  },
  {
   "cell_type": "code",
   "execution_count": null,
   "id": "6b53cc60",
   "metadata": {},
   "outputs": [],
   "source": []
  }
 ],
 "metadata": {
  "kernelspec": {
   "display_name": "Python 3 (ipykernel)",
   "language": "python",
   "name": "python3"
  },
  "language_info": {
   "codemirror_mode": {
    "name": "ipython",
    "version": 3
   },
   "file_extension": ".py",
   "mimetype": "text/x-python",
   "name": "python",
   "nbconvert_exporter": "python",
   "pygments_lexer": "ipython3",
   "version": "3.11.5"
  }
 },
 "nbformat": 4,
 "nbformat_minor": 5
}
